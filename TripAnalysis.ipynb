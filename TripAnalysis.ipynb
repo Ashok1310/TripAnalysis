{
  "nbformat": 4,
  "nbformat_minor": 0,
  "metadata": {
    "colab": {
      "name": "TripAnalysis.ipynb",
      "version": "0.3.2",
      "provenance": []
    },
    "language_info": {
      "codemirror_mode": {
        "name": "ipython",
        "version": 3
      },
      "file_extension": ".py",
      "mimetype": "text/x-python",
      "name": "python",
      "nbconvert_exporter": "python",
      "pygments_lexer": "ipython3",
      "version": "3.7.1"
    },
    "kernelspec": {
      "display_name": "Python 3",
      "language": "python",
      "name": "python3"
    }
  },
  "cells": [
    {
      "metadata": {
        "id": "_hkzxHRgTzJi",
        "colab_type": "code",
        "colab": {}
      },
      "cell_type": "code",
      "source": [
        "import numpy as np\n",
        "import pandas as pd\n",
        "import matplotlib.pyplot as plt\n",
        "import seaborn as sns"
      ],
      "execution_count": 0,
      "outputs": []
    },
    {
      "metadata": {
        "id": "sS1CeQdsTzJq",
        "colab_type": "code",
        "colab": {}
      },
      "cell_type": "code",
      "source": [
        "data=pd.read_csv(\"F:/My Folder/Data Scinece/Project/TripAnalysis/train_distance_matrix.csv\")"
      ],
      "execution_count": 0,
      "outputs": []
    },
    {
      "metadata": {
        "id": "4_ui2EcFTzJv",
        "colab_type": "code",
        "colab": {},
        "outputId": "0ef7497e-7385-482b-a6aa-bcca6ce1b31e"
      },
      "cell_type": "code",
      "source": [
        "data.head()"
      ],
      "execution_count": 0,
      "outputs": [
        {
          "output_type": "execute_result",
          "data": {
            "text/html": [
              "<div>\n",
              "<style scoped>\n",
              "    .dataframe tbody tr th:only-of-type {\n",
              "        vertical-align: middle;\n",
              "    }\n",
              "\n",
              "    .dataframe tbody tr th {\n",
              "        vertical-align: top;\n",
              "    }\n",
              "\n",
              "    .dataframe thead th {\n",
              "        text-align: right;\n",
              "    }\n",
              "</style>\n",
              "<table border=\"1\" class=\"dataframe\">\n",
              "  <thead>\n",
              "    <tr style=\"text-align: right;\">\n",
              "      <th></th>\n",
              "      <th>id</th>\n",
              "      <th>vendor_id</th>\n",
              "      <th>pickup_datetime</th>\n",
              "      <th>dropoff_datetime</th>\n",
              "      <th>passenger_count</th>\n",
              "      <th>pickup_longitude</th>\n",
              "      <th>pickup_latitude</th>\n",
              "      <th>dropoff_longitude</th>\n",
              "      <th>dropoff_latitude</th>\n",
              "      <th>store_and_fwd_flag</th>\n",
              "      <th>gc_distance</th>\n",
              "      <th>trip_duration</th>\n",
              "      <th>google_distance</th>\n",
              "      <th>google_duration</th>\n",
              "    </tr>\n",
              "  </thead>\n",
              "  <tbody>\n",
              "    <tr>\n",
              "      <th>0</th>\n",
              "      <td>id0190469</td>\n",
              "      <td>2</td>\n",
              "      <td>1/1/2016 0:00</td>\n",
              "      <td>1/1/2016 0:14</td>\n",
              "      <td>5</td>\n",
              "      <td>-73.981743</td>\n",
              "      <td>40.719158</td>\n",
              "      <td>-73.938828</td>\n",
              "      <td>40.829182</td>\n",
              "      <td>N</td>\n",
              "      <td>7.928830</td>\n",
              "      <td>849</td>\n",
              "      <td>15309.0</td>\n",
              "      <td>1109.0</td>\n",
              "    </tr>\n",
              "    <tr>\n",
              "      <th>1</th>\n",
              "      <td>id1665586</td>\n",
              "      <td>1</td>\n",
              "      <td>1/1/2016 0:00</td>\n",
              "      <td>1/1/2016 0:22</td>\n",
              "      <td>1</td>\n",
              "      <td>-73.985085</td>\n",
              "      <td>40.747166</td>\n",
              "      <td>-73.958038</td>\n",
              "      <td>40.717491</td>\n",
              "      <td>N</td>\n",
              "      <td>2.492482</td>\n",
              "      <td>1294</td>\n",
              "      <td>9970.0</td>\n",
              "      <td>1277.0</td>\n",
              "    </tr>\n",
              "    <tr>\n",
              "      <th>2</th>\n",
              "      <td>id1078247</td>\n",
              "      <td>2</td>\n",
              "      <td>1/1/2016 0:01</td>\n",
              "      <td>1/1/2016 0:03</td>\n",
              "      <td>1</td>\n",
              "      <td>-73.973335</td>\n",
              "      <td>40.764072</td>\n",
              "      <td>-73.974854</td>\n",
              "      <td>40.761734</td>\n",
              "      <td>N</td>\n",
              "      <td>0.180099</td>\n",
              "      <td>114</td>\n",
              "      <td>289.0</td>\n",
              "      <td>79.0</td>\n",
              "    </tr>\n",
              "    <tr>\n",
              "      <th>3</th>\n",
              "      <td>id3609443</td>\n",
              "      <td>1</td>\n",
              "      <td>1/1/2016 0:01</td>\n",
              "      <td>1/1/2016 0:21</td>\n",
              "      <td>2</td>\n",
              "      <td>-73.993103</td>\n",
              "      <td>40.752632</td>\n",
              "      <td>-73.953903</td>\n",
              "      <td>40.816540</td>\n",
              "      <td>N</td>\n",
              "      <td>4.869948</td>\n",
              "      <td>1204</td>\n",
              "      <td>9821.0</td>\n",
              "      <td>1274.0</td>\n",
              "    </tr>\n",
              "    <tr>\n",
              "      <th>4</th>\n",
              "      <td>id3888279</td>\n",
              "      <td>1</td>\n",
              "      <td>1/1/2016 0:01</td>\n",
              "      <td>1/1/2016 0:05</td>\n",
              "      <td>1</td>\n",
              "      <td>-73.982292</td>\n",
              "      <td>40.751331</td>\n",
              "      <td>-73.991341</td>\n",
              "      <td>40.750340</td>\n",
              "      <td>N</td>\n",
              "      <td>0.478682</td>\n",
              "      <td>280</td>\n",
              "      <td>1052.0</td>\n",
              "      <td>345.0</td>\n",
              "    </tr>\n",
              "  </tbody>\n",
              "</table>\n",
              "</div>"
            ],
            "text/plain": [
              "          id  vendor_id pickup_datetime dropoff_datetime  passenger_count  \\\n",
              "0  id0190469          2   1/1/2016 0:00    1/1/2016 0:14                5   \n",
              "1  id1665586          1   1/1/2016 0:00    1/1/2016 0:22                1   \n",
              "2  id1078247          2   1/1/2016 0:01    1/1/2016 0:03                1   \n",
              "3  id3609443          1   1/1/2016 0:01    1/1/2016 0:21                2   \n",
              "4  id3888279          1   1/1/2016 0:01    1/1/2016 0:05                1   \n",
              "\n",
              "   pickup_longitude  pickup_latitude  dropoff_longitude  dropoff_latitude  \\\n",
              "0        -73.981743        40.719158         -73.938828         40.829182   \n",
              "1        -73.985085        40.747166         -73.958038         40.717491   \n",
              "2        -73.973335        40.764072         -73.974854         40.761734   \n",
              "3        -73.993103        40.752632         -73.953903         40.816540   \n",
              "4        -73.982292        40.751331         -73.991341         40.750340   \n",
              "\n",
              "  store_and_fwd_flag  gc_distance  trip_duration  google_distance  \\\n",
              "0                  N     7.928830            849          15309.0   \n",
              "1                  N     2.492482           1294           9970.0   \n",
              "2                  N     0.180099            114            289.0   \n",
              "3                  N     4.869948           1204           9821.0   \n",
              "4                  N     0.478682            280           1052.0   \n",
              "\n",
              "   google_duration  \n",
              "0           1109.0  \n",
              "1           1277.0  \n",
              "2             79.0  \n",
              "3           1274.0  \n",
              "4            345.0  "
            ]
          },
          "metadata": {
            "tags": []
          },
          "execution_count": 3
        }
      ]
    },
    {
      "metadata": {
        "id": "AaGULDXfTzJ6",
        "colab_type": "code",
        "colab": {},
        "outputId": "1b0c2839-ecf0-489a-d701-29f61cf0ad43"
      },
      "cell_type": "code",
      "source": [
        "data.tail()"
      ],
      "execution_count": 0,
      "outputs": [
        {
          "output_type": "execute_result",
          "data": {
            "text/html": [
              "<div>\n",
              "<style scoped>\n",
              "    .dataframe tbody tr th:only-of-type {\n",
              "        vertical-align: middle;\n",
              "    }\n",
              "\n",
              "    .dataframe tbody tr th {\n",
              "        vertical-align: top;\n",
              "    }\n",
              "\n",
              "    .dataframe thead th {\n",
              "        text-align: right;\n",
              "    }\n",
              "</style>\n",
              "<table border=\"1\" class=\"dataframe\">\n",
              "  <thead>\n",
              "    <tr style=\"text-align: right;\">\n",
              "      <th></th>\n",
              "      <th>id</th>\n",
              "      <th>vendor_id</th>\n",
              "      <th>pickup_datetime</th>\n",
              "      <th>dropoff_datetime</th>\n",
              "      <th>passenger_count</th>\n",
              "      <th>pickup_longitude</th>\n",
              "      <th>pickup_latitude</th>\n",
              "      <th>dropoff_longitude</th>\n",
              "      <th>dropoff_latitude</th>\n",
              "      <th>store_and_fwd_flag</th>\n",
              "      <th>gc_distance</th>\n",
              "      <th>trip_duration</th>\n",
              "      <th>google_distance</th>\n",
              "      <th>google_duration</th>\n",
              "    </tr>\n",
              "  </thead>\n",
              "  <tbody>\n",
              "    <tr>\n",
              "      <th>39391</th>\n",
              "      <td>id2018916</td>\n",
              "      <td>2</td>\n",
              "      <td>1/8/2016 21:56</td>\n",
              "      <td>1/8/2016 21:59</td>\n",
              "      <td>5</td>\n",
              "      <td>-73.983238</td>\n",
              "      <td>40.752171</td>\n",
              "      <td>-73.980621</td>\n",
              "      <td>40.756641</td>\n",
              "      <td>N</td>\n",
              "      <td>0.338003</td>\n",
              "      <td>197</td>\n",
              "      <td>933.0</td>\n",
              "      <td>281.0</td>\n",
              "    </tr>\n",
              "    <tr>\n",
              "      <th>39392</th>\n",
              "      <td>id3400877</td>\n",
              "      <td>2</td>\n",
              "      <td>1/8/2016 21:56</td>\n",
              "      <td>1/8/2016 22:01</td>\n",
              "      <td>1</td>\n",
              "      <td>-73.991844</td>\n",
              "      <td>40.724026</td>\n",
              "      <td>-74.004669</td>\n",
              "      <td>40.728661</td>\n",
              "      <td>N</td>\n",
              "      <td>0.744192</td>\n",
              "      <td>289</td>\n",
              "      <td>1209.0</td>\n",
              "      <td>361.0</td>\n",
              "    </tr>\n",
              "    <tr>\n",
              "      <th>39393</th>\n",
              "      <td>id3324326</td>\n",
              "      <td>2</td>\n",
              "      <td>1/8/2016 21:56</td>\n",
              "      <td>1/8/2016 22:05</td>\n",
              "      <td>1</td>\n",
              "      <td>-73.977264</td>\n",
              "      <td>40.784382</td>\n",
              "      <td>-73.959930</td>\n",
              "      <td>40.767830</td>\n",
              "      <td>N</td>\n",
              "      <td>1.460018</td>\n",
              "      <td>514</td>\n",
              "      <td>3026.0</td>\n",
              "      <td>719.0</td>\n",
              "    </tr>\n",
              "    <tr>\n",
              "      <th>39394</th>\n",
              "      <td>id3410388</td>\n",
              "      <td>2</td>\n",
              "      <td>1/8/2016 21:56</td>\n",
              "      <td>1/8/2016 21:58</td>\n",
              "      <td>1</td>\n",
              "      <td>-73.964699</td>\n",
              "      <td>40.756077</td>\n",
              "      <td>-73.960144</td>\n",
              "      <td>40.758911</td>\n",
              "      <td>N</td>\n",
              "      <td>0.308593</td>\n",
              "      <td>96</td>\n",
              "      <td>628.0</td>\n",
              "      <td>166.0</td>\n",
              "    </tr>\n",
              "    <tr>\n",
              "      <th>39395</th>\n",
              "      <td>id0044708</td>\n",
              "      <td>2</td>\n",
              "      <td>1/8/2016 21:56</td>\n",
              "      <td>1/8/2016 22:14</td>\n",
              "      <td>1</td>\n",
              "      <td>-73.976532</td>\n",
              "      <td>40.743931</td>\n",
              "      <td>-73.987061</td>\n",
              "      <td>40.722340</td>\n",
              "      <td>N</td>\n",
              "      <td>1.590840</td>\n",
              "      <td>1133</td>\n",
              "      <td>4293.0</td>\n",
              "      <td>557.0</td>\n",
              "    </tr>\n",
              "  </tbody>\n",
              "</table>\n",
              "</div>"
            ],
            "text/plain": [
              "              id  vendor_id pickup_datetime dropoff_datetime  passenger_count  \\\n",
              "39391  id2018916          2  1/8/2016 21:56   1/8/2016 21:59                5   \n",
              "39392  id3400877          2  1/8/2016 21:56   1/8/2016 22:01                1   \n",
              "39393  id3324326          2  1/8/2016 21:56   1/8/2016 22:05                1   \n",
              "39394  id3410388          2  1/8/2016 21:56   1/8/2016 21:58                1   \n",
              "39395  id0044708          2  1/8/2016 21:56   1/8/2016 22:14                1   \n",
              "\n",
              "       pickup_longitude  pickup_latitude  dropoff_longitude  dropoff_latitude  \\\n",
              "39391        -73.983238        40.752171         -73.980621         40.756641   \n",
              "39392        -73.991844        40.724026         -74.004669         40.728661   \n",
              "39393        -73.977264        40.784382         -73.959930         40.767830   \n",
              "39394        -73.964699        40.756077         -73.960144         40.758911   \n",
              "39395        -73.976532        40.743931         -73.987061         40.722340   \n",
              "\n",
              "      store_and_fwd_flag  gc_distance  trip_duration  google_distance  \\\n",
              "39391                  N     0.338003            197            933.0   \n",
              "39392                  N     0.744192            289           1209.0   \n",
              "39393                  N     1.460018            514           3026.0   \n",
              "39394                  N     0.308593             96            628.0   \n",
              "39395                  N     1.590840           1133           4293.0   \n",
              "\n",
              "       google_duration  \n",
              "39391            281.0  \n",
              "39392            361.0  \n",
              "39393            719.0  \n",
              "39394            166.0  \n",
              "39395            557.0  "
            ]
          },
          "metadata": {
            "tags": []
          },
          "execution_count": 4
        }
      ]
    },
    {
      "metadata": {
        "id": "oRfEmlCtTzKC",
        "colab_type": "code",
        "colab": {},
        "outputId": "53cc2c17-0227-4921-93a4-351c37fb27ef"
      },
      "cell_type": "code",
      "source": [
        "data.describe()"
      ],
      "execution_count": 0,
      "outputs": [
        {
          "output_type": "execute_result",
          "data": {
            "text/html": [
              "<div>\n",
              "<style scoped>\n",
              "    .dataframe tbody tr th:only-of-type {\n",
              "        vertical-align: middle;\n",
              "    }\n",
              "\n",
              "    .dataframe tbody tr th {\n",
              "        vertical-align: top;\n",
              "    }\n",
              "\n",
              "    .dataframe thead th {\n",
              "        text-align: right;\n",
              "    }\n",
              "</style>\n",
              "<table border=\"1\" class=\"dataframe\">\n",
              "  <thead>\n",
              "    <tr style=\"text-align: right;\">\n",
              "      <th></th>\n",
              "      <th>vendor_id</th>\n",
              "      <th>passenger_count</th>\n",
              "      <th>pickup_longitude</th>\n",
              "      <th>pickup_latitude</th>\n",
              "      <th>dropoff_longitude</th>\n",
              "      <th>dropoff_latitude</th>\n",
              "      <th>gc_distance</th>\n",
              "      <th>trip_duration</th>\n",
              "      <th>google_distance</th>\n",
              "      <th>google_duration</th>\n",
              "    </tr>\n",
              "  </thead>\n",
              "  <tbody>\n",
              "    <tr>\n",
              "      <th>count</th>\n",
              "      <td>39396.000000</td>\n",
              "      <td>39396.000000</td>\n",
              "      <td>39396.000000</td>\n",
              "      <td>39396.000000</td>\n",
              "      <td>39396.000000</td>\n",
              "      <td>39396.000000</td>\n",
              "      <td>39396.000000</td>\n",
              "      <td>3.939600e+04</td>\n",
              "      <td>38837.000000</td>\n",
              "      <td>38837.000000</td>\n",
              "    </tr>\n",
              "    <tr>\n",
              "      <th>mean</th>\n",
              "      <td>1.540512</td>\n",
              "      <td>1.691669</td>\n",
              "      <td>-73.971934</td>\n",
              "      <td>40.750858</td>\n",
              "      <td>-73.973048</td>\n",
              "      <td>40.752142</td>\n",
              "      <td>2.166888</td>\n",
              "      <td>9.745813e+02</td>\n",
              "      <td>4937.839097</td>\n",
              "      <td>821.085614</td>\n",
              "    </tr>\n",
              "    <tr>\n",
              "      <th>std</th>\n",
              "      <td>0.498362</td>\n",
              "      <td>1.332440</td>\n",
              "      <td>0.041576</td>\n",
              "      <td>0.040643</td>\n",
              "      <td>0.045388</td>\n",
              "      <td>0.032743</td>\n",
              "      <td>3.769393</td>\n",
              "      <td>1.524926e+04</td>\n",
              "      <td>6184.438363</td>\n",
              "      <td>509.541421</td>\n",
              "    </tr>\n",
              "    <tr>\n",
              "      <th>min</th>\n",
              "      <td>1.000000</td>\n",
              "      <td>0.000000</td>\n",
              "      <td>-74.345078</td>\n",
              "      <td>35.081532</td>\n",
              "      <td>-79.352837</td>\n",
              "      <td>40.436329</td>\n",
              "      <td>0.000000</td>\n",
              "      <td>2.000000e+00</td>\n",
              "      <td>0.000000</td>\n",
              "      <td>0.000000</td>\n",
              "    </tr>\n",
              "    <tr>\n",
              "      <th>25%</th>\n",
              "      <td>1.000000</td>\n",
              "      <td>1.000000</td>\n",
              "      <td>-73.991318</td>\n",
              "      <td>40.737885</td>\n",
              "      <td>-73.990822</td>\n",
              "      <td>40.736804</td>\n",
              "      <td>0.753846</td>\n",
              "      <td>3.590000e+02</td>\n",
              "      <td>1639.000000</td>\n",
              "      <td>453.000000</td>\n",
              "    </tr>\n",
              "    <tr>\n",
              "      <th>50%</th>\n",
              "      <td>2.000000</td>\n",
              "      <td>1.000000</td>\n",
              "      <td>-73.981133</td>\n",
              "      <td>40.754929</td>\n",
              "      <td>-73.979263</td>\n",
              "      <td>40.755201</td>\n",
              "      <td>1.281959</td>\n",
              "      <td>5.890000e+02</td>\n",
              "      <td>2733.000000</td>\n",
              "      <td>702.000000</td>\n",
              "    </tr>\n",
              "    <tr>\n",
              "      <th>75%</th>\n",
              "      <td>2.000000</td>\n",
              "      <td>2.000000</td>\n",
              "      <td>-73.966316</td>\n",
              "      <td>40.768787</td>\n",
              "      <td>-73.962667</td>\n",
              "      <td>40.770051</td>\n",
              "      <td>2.377999</td>\n",
              "      <td>9.490000e+02</td>\n",
              "      <td>5174.000000</td>\n",
              "      <td>1073.000000</td>\n",
              "    </tr>\n",
              "    <tr>\n",
              "      <th>max</th>\n",
              "      <td>2.000000</td>\n",
              "      <td>8.000000</td>\n",
              "      <td>-71.799896</td>\n",
              "      <td>41.023983</td>\n",
              "      <td>-73.324074</td>\n",
              "      <td>41.334740</td>\n",
              "      <td>553.930793</td>\n",
              "      <td>2.227612e+06</td>\n",
              "      <td>91060.000000</td>\n",
              "      <td>4164.000000</td>\n",
              "    </tr>\n",
              "  </tbody>\n",
              "</table>\n",
              "</div>"
            ],
            "text/plain": [
              "          vendor_id  passenger_count  pickup_longitude  pickup_latitude  \\\n",
              "count  39396.000000     39396.000000      39396.000000     39396.000000   \n",
              "mean       1.540512         1.691669        -73.971934        40.750858   \n",
              "std        0.498362         1.332440          0.041576         0.040643   \n",
              "min        1.000000         0.000000        -74.345078        35.081532   \n",
              "25%        1.000000         1.000000        -73.991318        40.737885   \n",
              "50%        2.000000         1.000000        -73.981133        40.754929   \n",
              "75%        2.000000         2.000000        -73.966316        40.768787   \n",
              "max        2.000000         8.000000        -71.799896        41.023983   \n",
              "\n",
              "       dropoff_longitude  dropoff_latitude   gc_distance  trip_duration  \\\n",
              "count       39396.000000      39396.000000  39396.000000   3.939600e+04   \n",
              "mean          -73.973048         40.752142      2.166888   9.745813e+02   \n",
              "std             0.045388          0.032743      3.769393   1.524926e+04   \n",
              "min           -79.352837         40.436329      0.000000   2.000000e+00   \n",
              "25%           -73.990822         40.736804      0.753846   3.590000e+02   \n",
              "50%           -73.979263         40.755201      1.281959   5.890000e+02   \n",
              "75%           -73.962667         40.770051      2.377999   9.490000e+02   \n",
              "max           -73.324074         41.334740    553.930793   2.227612e+06   \n",
              "\n",
              "       google_distance  google_duration  \n",
              "count     38837.000000     38837.000000  \n",
              "mean       4937.839097       821.085614  \n",
              "std        6184.438363       509.541421  \n",
              "min           0.000000         0.000000  \n",
              "25%        1639.000000       453.000000  \n",
              "50%        2733.000000       702.000000  \n",
              "75%        5174.000000      1073.000000  \n",
              "max       91060.000000      4164.000000  "
            ]
          },
          "metadata": {
            "tags": []
          },
          "execution_count": 5
        }
      ]
    },
    {
      "metadata": {
        "id": "WE56kw39TzKJ",
        "colab_type": "code",
        "colab": {},
        "outputId": "51e53a20-136b-419c-bd9f-aeb866aa56ee"
      },
      "cell_type": "code",
      "source": [
        "data.info()"
      ],
      "execution_count": 0,
      "outputs": [
        {
          "output_type": "stream",
          "text": [
            "<class 'pandas.core.frame.DataFrame'>\n",
            "RangeIndex: 39396 entries, 0 to 39395\n",
            "Data columns (total 14 columns):\n",
            "id                    39396 non-null object\n",
            "vendor_id             39396 non-null int64\n",
            "pickup_datetime       39396 non-null object\n",
            "dropoff_datetime      39396 non-null object\n",
            "passenger_count       39396 non-null int64\n",
            "pickup_longitude      39396 non-null float64\n",
            "pickup_latitude       39396 non-null float64\n",
            "dropoff_longitude     39396 non-null float64\n",
            "dropoff_latitude      39396 non-null float64\n",
            "store_and_fwd_flag    39396 non-null object\n",
            "gc_distance           39396 non-null float64\n",
            "trip_duration         39396 non-null int64\n",
            "google_distance       38837 non-null float64\n",
            "google_duration       38837 non-null float64\n",
            "dtypes: float64(7), int64(3), object(4)\n",
            "memory usage: 4.2+ MB\n"
          ],
          "name": "stdout"
        }
      ]
    },
    {
      "metadata": {
        "id": "-OVnj150TzKR",
        "colab_type": "code",
        "colab": {},
        "outputId": "182606f1-b5a9-4c18-cac4-77377734d1cf"
      },
      "cell_type": "code",
      "source": [
        "data.shape"
      ],
      "execution_count": 0,
      "outputs": [
        {
          "output_type": "execute_result",
          "data": {
            "text/plain": [
              "(39396, 14)"
            ]
          },
          "metadata": {
            "tags": []
          },
          "execution_count": 7
        }
      ]
    },
    {
      "metadata": {
        "id": "Hoc9EOFLTzKZ",
        "colab_type": "code",
        "colab": {},
        "outputId": "78eee766-0e19-453d-a2f3-20af6be6d9da"
      },
      "cell_type": "code",
      "source": [
        "hist = data.hist(bins=5)"
      ],
      "execution_count": 0,
      "outputs": [
        {
          "output_type": "display_data",
          "data": {
            "image/png": "[encoded data removed]",
            "text/plain": [
              "<Figure size 432x288 with 12 Axes>"
            ]
          },
          "metadata": {
            "tags": [],
            "needs_background": "light"
          }
        }
      ]
    },
    {
      "metadata": {
        "id": "rkro3LEoTzKh",
        "colab_type": "code",
        "colab": {},
        "outputId": "6057d7e8-8ace-4c65-fd3f-fa4386ae0918"
      },
      "cell_type": "code",
      "source": [
        "data.corr()"
      ],
      "execution_count": 0,
      "outputs": [
        {
          "output_type": "execute_result",
          "data": {
            "text/html": [
              "<div>\n",
              "<style scoped>\n",
              "    .dataframe tbody tr th:only-of-type {\n",
              "        vertical-align: middle;\n",
              "    }\n",
              "\n",
              "    .dataframe tbody tr th {\n",
              "        vertical-align: top;\n",
              "    }\n",
              "\n",
              "    .dataframe thead th {\n",
              "        text-align: right;\n",
              "    }\n",
              "</style>\n",
              "<table border=\"1\" class=\"dataframe\">\n",
              "  <thead>\n",
              "    <tr style=\"text-align: right;\">\n",
              "      <th></th>\n",
              "      <th>vendor_id</th>\n",
              "      <th>passenger_count</th>\n",
              "      <th>pickup_longitude</th>\n",
              "      <th>pickup_latitude</th>\n",
              "      <th>dropoff_longitude</th>\n",
              "      <th>dropoff_latitude</th>\n",
              "      <th>gc_distance</th>\n",
              "      <th>trip_duration</th>\n",
              "      <th>google_distance</th>\n",
              "      <th>google_duration</th>\n",
              "    </tr>\n",
              "  </thead>\n",
              "  <tbody>\n",
              "    <tr>\n",
              "      <th>vendor_id</th>\n",
              "      <td>1.000000</td>\n",
              "      <td>0.277930</td>\n",
              "      <td>0.018111</td>\n",
              "      <td>-0.002487</td>\n",
              "      <td>-0.000962</td>\n",
              "      <td>0.009011</td>\n",
              "      <td>0.008551</td>\n",
              "      <td>0.000747</td>\n",
              "      <td>0.006009</td>\n",
              "      <td>-0.000787</td>\n",
              "    </tr>\n",
              "    <tr>\n",
              "      <th>passenger_count</th>\n",
              "      <td>0.277930</td>\n",
              "      <td>1.000000</td>\n",
              "      <td>0.012142</td>\n",
              "      <td>-0.017766</td>\n",
              "      <td>-0.002956</td>\n",
              "      <td>-0.004920</td>\n",
              "      <td>0.023795</td>\n",
              "      <td>-0.001862</td>\n",
              "      <td>0.020954</td>\n",
              "      <td>0.019870</td>\n",
              "    </tr>\n",
              "    <tr>\n",
              "      <th>pickup_longitude</th>\n",
              "      <td>0.018111</td>\n",
              "      <td>0.012142</td>\n",
              "      <td>1.000000</td>\n",
              "      <td>-0.335180</td>\n",
              "      <td>0.065193</td>\n",
              "      <td>0.009146</td>\n",
              "      <td>0.547696</td>\n",
              "      <td>0.027301</td>\n",
              "      <td>0.548899</td>\n",
              "      <td>0.389416</td>\n",
              "    </tr>\n",
              "    <tr>\n",
              "      <th>pickup_latitude</th>\n",
              "      <td>-0.002487</td>\n",
              "      <td>-0.017766</td>\n",
              "      <td>-0.335180</td>\n",
              "      <td>1.000000</td>\n",
              "      <td>0.432369</td>\n",
              "      <td>0.328602</td>\n",
              "      <td>-0.689384</td>\n",
              "      <td>-0.016466</td>\n",
              "      <td>-0.356299</td>\n",
              "      <td>-0.324800</td>\n",
              "    </tr>\n",
              "    <tr>\n",
              "      <th>dropoff_longitude</th>\n",
              "      <td>-0.000962</td>\n",
              "      <td>-0.002956</td>\n",
              "      <td>0.065193</td>\n",
              "      <td>0.432369</td>\n",
              "      <td>1.000000</td>\n",
              "      <td>0.130120</td>\n",
              "      <td>-0.257522</td>\n",
              "      <td>0.007589</td>\n",
              "      <td>0.322989</td>\n",
              "      <td>0.192790</td>\n",
              "    </tr>\n",
              "    <tr>\n",
              "      <th>dropoff_latitude</th>\n",
              "      <td>0.009011</td>\n",
              "      <td>-0.004920</td>\n",
              "      <td>0.009146</td>\n",
              "      <td>0.328602</td>\n",
              "      <td>0.130120</td>\n",
              "      <td>1.000000</td>\n",
              "      <td>-0.141516</td>\n",
              "      <td>-0.008565</td>\n",
              "      <td>-0.182609</td>\n",
              "      <td>-0.198613</td>\n",
              "    </tr>\n",
              "    <tr>\n",
              "      <th>gc_distance</th>\n",
              "      <td>0.008551</td>\n",
              "      <td>0.023795</td>\n",
              "      <td>0.547696</td>\n",
              "      <td>-0.689384</td>\n",
              "      <td>-0.257522</td>\n",
              "      <td>-0.141516</td>\n",
              "      <td>1.000000</td>\n",
              "      <td>0.028148</td>\n",
              "      <td>0.975278</td>\n",
              "      <td>0.862958</td>\n",
              "    </tr>\n",
              "    <tr>\n",
              "      <th>trip_duration</th>\n",
              "      <td>0.000747</td>\n",
              "      <td>-0.001862</td>\n",
              "      <td>0.027301</td>\n",
              "      <td>-0.016466</td>\n",
              "      <td>0.007589</td>\n",
              "      <td>-0.008565</td>\n",
              "      <td>0.028148</td>\n",
              "      <td>1.000000</td>\n",
              "      <td>0.042919</td>\n",
              "      <td>0.041537</td>\n",
              "    </tr>\n",
              "    <tr>\n",
              "      <th>google_distance</th>\n",
              "      <td>0.006009</td>\n",
              "      <td>0.020954</td>\n",
              "      <td>0.548899</td>\n",
              "      <td>-0.356299</td>\n",
              "      <td>0.322989</td>\n",
              "      <td>-0.182609</td>\n",
              "      <td>0.975278</td>\n",
              "      <td>0.042919</td>\n",
              "      <td>1.000000</td>\n",
              "      <td>0.866630</td>\n",
              "    </tr>\n",
              "    <tr>\n",
              "      <th>google_duration</th>\n",
              "      <td>-0.000787</td>\n",
              "      <td>0.019870</td>\n",
              "      <td>0.389416</td>\n",
              "      <td>-0.324800</td>\n",
              "      <td>0.192790</td>\n",
              "      <td>-0.198613</td>\n",
              "      <td>0.862958</td>\n",
              "      <td>0.041537</td>\n",
              "      <td>0.866630</td>\n",
              "      <td>1.000000</td>\n",
              "    </tr>\n",
              "  </tbody>\n",
              "</table>\n",
              "</div>"
            ],
            "text/plain": [
              "                   vendor_id  passenger_count  pickup_longitude  \\\n",
              "vendor_id           1.000000         0.277930          0.018111   \n",
              "passenger_count     0.277930         1.000000          0.012142   \n",
              "pickup_longitude    0.018111         0.012142          1.000000   \n",
              "pickup_latitude    -0.002487        -0.017766         -0.335180   \n",
              "dropoff_longitude  -0.000962        -0.002956          0.065193   \n",
              "dropoff_latitude    0.009011        -0.004920          0.009146   \n",
              "gc_distance         0.008551         0.023795          0.547696   \n",
              "trip_duration       0.000747        -0.001862          0.027301   \n",
              "google_distance     0.006009         0.020954          0.548899   \n",
              "google_duration    -0.000787         0.019870          0.389416   \n",
              "\n",
              "                   pickup_latitude  dropoff_longitude  dropoff_latitude  \\\n",
              "vendor_id                -0.002487          -0.000962          0.009011   \n",
              "passenger_count          -0.017766          -0.002956         -0.004920   \n",
              "pickup_longitude         -0.335180           0.065193          0.009146   \n",
              "pickup_latitude           1.000000           0.432369          0.328602   \n",
              "dropoff_longitude         0.432369           1.000000          0.130120   \n",
              "dropoff_latitude          0.328602           0.130120          1.000000   \n",
              "gc_distance              -0.689384          -0.257522         -0.141516   \n",
              "trip_duration            -0.016466           0.007589         -0.008565   \n",
              "google_distance          -0.356299           0.322989         -0.182609   \n",
              "google_duration          -0.324800           0.192790         -0.198613   \n",
              "\n",
              "                   gc_distance  trip_duration  google_distance  \\\n",
              "vendor_id             0.008551       0.000747         0.006009   \n",
              "passenger_count       0.023795      -0.001862         0.020954   \n",
              "pickup_longitude      0.547696       0.027301         0.548899   \n",
              "pickup_latitude      -0.689384      -0.016466        -0.356299   \n",
              "dropoff_longitude    -0.257522       0.007589         0.322989   \n",
              "dropoff_latitude     -0.141516      -0.008565        -0.182609   \n",
              "gc_distance           1.000000       0.028148         0.975278   \n",
              "trip_duration         0.028148       1.000000         0.042919   \n",
              "google_distance       0.975278       0.042919         1.000000   \n",
              "google_duration       0.862958       0.041537         0.866630   \n",
              "\n",
              "                   google_duration  \n",
              "vendor_id                -0.000787  \n",
              "passenger_count           0.019870  \n",
              "pickup_longitude          0.389416  \n",
              "pickup_latitude          -0.324800  \n",
              "dropoff_longitude         0.192790  \n",
              "dropoff_latitude         -0.198613  \n",
              "gc_distance               0.862958  \n",
              "trip_duration             0.041537  \n",
              "google_distance           0.866630  \n",
              "google_duration           1.000000  "
            ]
          },
          "metadata": {
            "tags": []
          },
          "execution_count": 9
        }
      ]
    },
    {
      "metadata": {
        "id": "6AmgRd2dTzKn",
        "colab_type": "code",
        "colab": {},
        "outputId": "1bdf4b06-360f-4122-d494-427fe20df962"
      },
      "cell_type": "code",
      "source": [
        "corr = data.corr()\n",
        "sns.heatmap(corr, xticklabels=corr.columns.values,yticklabels=corr.columns.values)"
      ],
      "execution_count": 0,
      "outputs": [
        {
          "output_type": "execute_result",
          "data": {
            "text/plain": [
              "<matplotlib.axes._subplots.AxesSubplot at 0x2a5cebf3470>"
            ]
          },
          "metadata": {
            "tags": []
          },
          "execution_count": 10
        },
        {
          "output_type": "display_data",
          "data": {
            "image/png": "[encoded data removed]",
            "text/plain": [
              "<Figure size 432x288 with 2 Axes>"
            ]
          },
          "metadata": {
            "tags": [],
            "needs_background": "light"
          }
        }
      ]
    },
    {
      "metadata": {
        "id": "1fItZvcwTzK5",
        "colab_type": "code",
        "colab": {},
        "outputId": "6ff98efa-f406-4e2a-d702-078931c42c75"
      },
      "cell_type": "code",
      "source": [
        "data.isnull().sum().sum()"
      ],
      "execution_count": 0,
      "outputs": [
        {
          "output_type": "execute_result",
          "data": {
            "text/plain": [
              "1118"
            ]
          },
          "metadata": {
            "tags": []
          },
          "execution_count": 11
        }
      ]
    },
    {
      "metadata": {
        "id": "enbp70Q8TzK-",
        "colab_type": "code",
        "colab": {},
        "outputId": "c716be49-8634-4a3d-cf94-5c149bce4d95"
      },
      "cell_type": "code",
      "source": [
        "data.isnull().sum()"
      ],
      "execution_count": 0,
      "outputs": [
        {
          "output_type": "execute_result",
          "data": {
            "text/plain": [
              "id                      0\n",
              "vendor_id               0\n",
              "pickup_datetime         0\n",
              "dropoff_datetime        0\n",
              "passenger_count         0\n",
              "pickup_longitude        0\n",
              "pickup_latitude         0\n",
              "dropoff_longitude       0\n",
              "dropoff_latitude        0\n",
              "store_and_fwd_flag      0\n",
              "gc_distance             0\n",
              "trip_duration           0\n",
              "google_distance       559\n",
              "google_duration       559\n",
              "dtype: int64"
            ]
          },
          "metadata": {
            "tags": []
          },
          "execution_count": 12
        }
      ]
    },
    {
      "metadata": {
        "id": "iksvzBAcTzLE",
        "colab_type": "code",
        "colab": {}
      },
      "cell_type": "code",
      "source": [
        "data = data.drop(columns = ['google_duration'])"
      ],
      "execution_count": 0,
      "outputs": []
    },
    {
      "metadata": {
        "id": "TnPQHMSGTzLL",
        "colab_type": "code",
        "colab": {}
      },
      "cell_type": "code",
      "source": [
        "data = data.drop(columns = ['google_distance'])"
      ],
      "execution_count": 0,
      "outputs": []
    },
    {
      "metadata": {
        "id": "iFF4amWLTzLQ",
        "colab_type": "code",
        "colab": {},
        "outputId": "c6a9494e-e6da-4fd0-bb80-f3d4e169fd0f"
      },
      "cell_type": "code",
      "source": [
        "data.plot(x='passenger_count', y='pickup_longitude', style='o')  \n",
        "plt.title('passenger_count - pickup_longitude')  \n",
        "plt.xlabel('passenger_count')  \n",
        "plt.ylabel('pickup_longitude')  \n",
        "plt.show()"
      ],
      "execution_count": 0,
      "outputs": [
        {
          "output_type": "display_data",
          "data": {
            "image/png": "[encoded data removed]",
            "text/plain": [
              "<Figure size 432x288 with 1 Axes>"
            ]
          },
          "metadata": {
            "tags": [],
            "needs_background": "light"
          }
        }
      ]
    },
    {
      "metadata": {
        "id": "DM3JBWl-TzLV",
        "colab_type": "code",
        "colab": {}
      },
      "cell_type": "code",
      "source": [
        "data['durak'] = data.mean(numeric_only=True, axis=1)"
      ],
      "execution_count": 0,
      "outputs": []
    },
    {
      "metadata": {
        "id": "fuiRQCOzTzLX",
        "colab_type": "code",
        "colab": {}
      },
      "cell_type": "code",
      "source": [
        "def max_durak(trip_duration):\n",
        "    return (trip_duration >= 500)\n",
        "data['max'] = data['durak'].apply(max_durak)"
      ],
      "execution_count": 0,
      "outputs": []
    },
    {
      "metadata": {
        "id": "0TTZgPpnTzLa",
        "colab_type": "code",
        "colab": {},
        "outputId": "21d90170-5c1c-4132-e393-759ac5e5def9"
      },
      "cell_type": "code",
      "source": [
        "data.head(10)"
      ],
      "execution_count": 0,
      "outputs": [
        {
          "output_type": "execute_result",
          "data": {
            "text/html": [
              "<div>\n",
              "<style scoped>\n",
              "    .dataframe tbody tr th:only-of-type {\n",
              "        vertical-align: middle;\n",
              "    }\n",
              "\n",
              "    .dataframe tbody tr th {\n",
              "        vertical-align: top;\n",
              "    }\n",
              "\n",
              "    .dataframe thead th {\n",
              "        text-align: right;\n",
              "    }\n",
              "</style>\n",
              "<table border=\"1\" class=\"dataframe\">\n",
              "  <thead>\n",
              "    <tr style=\"text-align: right;\">\n",
              "      <th></th>\n",
              "      <th>id</th>\n",
              "      <th>vendor_id</th>\n",
              "      <th>pickup_datetime</th>\n",
              "      <th>dropoff_datetime</th>\n",
              "      <th>passenger_count</th>\n",
              "      <th>pickup_longitude</th>\n",
              "      <th>pickup_latitude</th>\n",
              "      <th>dropoff_longitude</th>\n",
              "      <th>dropoff_latitude</th>\n",
              "      <th>store_and_fwd_flag</th>\n",
              "      <th>gc_distance</th>\n",
              "      <th>trip_duration</th>\n",
              "      <th>durak</th>\n",
              "      <th>max</th>\n",
              "    </tr>\n",
              "  </thead>\n",
              "  <tbody>\n",
              "    <tr>\n",
              "      <th>0</th>\n",
              "      <td>id0190469</td>\n",
              "      <td>2</td>\n",
              "      <td>1/1/2016 0:00</td>\n",
              "      <td>1/1/2016 0:14</td>\n",
              "      <td>5</td>\n",
              "      <td>-73.981743</td>\n",
              "      <td>40.719158</td>\n",
              "      <td>-73.938828</td>\n",
              "      <td>40.829182</td>\n",
              "      <td>N</td>\n",
              "      <td>7.928830</td>\n",
              "      <td>849</td>\n",
              "      <td>99.694575</td>\n",
              "      <td>False</td>\n",
              "    </tr>\n",
              "    <tr>\n",
              "      <th>1</th>\n",
              "      <td>id1665586</td>\n",
              "      <td>1</td>\n",
              "      <td>1/1/2016 0:00</td>\n",
              "      <td>1/1/2016 0:22</td>\n",
              "      <td>1</td>\n",
              "      <td>-73.985085</td>\n",
              "      <td>40.747166</td>\n",
              "      <td>-73.958038</td>\n",
              "      <td>40.717491</td>\n",
              "      <td>N</td>\n",
              "      <td>2.492482</td>\n",
              "      <td>1294</td>\n",
              "      <td>154.001752</td>\n",
              "      <td>False</td>\n",
              "    </tr>\n",
              "    <tr>\n",
              "      <th>2</th>\n",
              "      <td>id1078247</td>\n",
              "      <td>2</td>\n",
              "      <td>1/1/2016 0:01</td>\n",
              "      <td>1/1/2016 0:03</td>\n",
              "      <td>1</td>\n",
              "      <td>-73.973335</td>\n",
              "      <td>40.764072</td>\n",
              "      <td>-73.974854</td>\n",
              "      <td>40.761734</td>\n",
              "      <td>N</td>\n",
              "      <td>0.180099</td>\n",
              "      <td>114</td>\n",
              "      <td>6.344715</td>\n",
              "      <td>False</td>\n",
              "    </tr>\n",
              "    <tr>\n",
              "      <th>3</th>\n",
              "      <td>id3609443</td>\n",
              "      <td>1</td>\n",
              "      <td>1/1/2016 0:01</td>\n",
              "      <td>1/1/2016 0:21</td>\n",
              "      <td>2</td>\n",
              "      <td>-73.993103</td>\n",
              "      <td>40.752632</td>\n",
              "      <td>-73.953903</td>\n",
              "      <td>40.816540</td>\n",
              "      <td>N</td>\n",
              "      <td>4.869948</td>\n",
              "      <td>1204</td>\n",
              "      <td>143.186514</td>\n",
              "      <td>False</td>\n",
              "    </tr>\n",
              "    <tr>\n",
              "      <th>4</th>\n",
              "      <td>id3888279</td>\n",
              "      <td>1</td>\n",
              "      <td>1/1/2016 0:01</td>\n",
              "      <td>1/1/2016 0:05</td>\n",
              "      <td>1</td>\n",
              "      <td>-73.982292</td>\n",
              "      <td>40.751331</td>\n",
              "      <td>-73.991341</td>\n",
              "      <td>40.750340</td>\n",
              "      <td>N</td>\n",
              "      <td>0.478682</td>\n",
              "      <td>280</td>\n",
              "      <td>27.000840</td>\n",
              "      <td>False</td>\n",
              "    </tr>\n",
              "    <tr>\n",
              "      <th>5</th>\n",
              "      <td>id1210365</td>\n",
              "      <td>2</td>\n",
              "      <td>1/1/2016 0:01</td>\n",
              "      <td>1/1/2016 0:07</td>\n",
              "      <td>5</td>\n",
              "      <td>-73.965279</td>\n",
              "      <td>40.801041</td>\n",
              "      <td>-73.947479</td>\n",
              "      <td>40.815170</td>\n",
              "      <td>N</td>\n",
              "      <td>1.349297</td>\n",
              "      <td>408</td>\n",
              "      <td>43.756594</td>\n",
              "      <td>False</td>\n",
              "    </tr>\n",
              "    <tr>\n",
              "      <th>6</th>\n",
              "      <td>id0924227</td>\n",
              "      <td>1</td>\n",
              "      <td>1/1/2016 0:01</td>\n",
              "      <td>1/1/2016 0:13</td>\n",
              "      <td>1</td>\n",
              "      <td>-73.970108</td>\n",
              "      <td>40.759800</td>\n",
              "      <td>-73.989357</td>\n",
              "      <td>40.742989</td>\n",
              "      <td>N</td>\n",
              "      <td>1.538063</td>\n",
              "      <td>736</td>\n",
              "      <td>84.135173</td>\n",
              "      <td>False</td>\n",
              "    </tr>\n",
              "    <tr>\n",
              "      <th>7</th>\n",
              "      <td>id3675972</td>\n",
              "      <td>2</td>\n",
              "      <td>1/1/2016 0:02</td>\n",
              "      <td>1/1/2016 0:10</td>\n",
              "      <td>1</td>\n",
              "      <td>-73.993736</td>\n",
              "      <td>40.741760</td>\n",
              "      <td>-74.004669</td>\n",
              "      <td>40.745468</td>\n",
              "      <td>N</td>\n",
              "      <td>0.627214</td>\n",
              "      <td>445</td>\n",
              "      <td>47.764505</td>\n",
              "      <td>False</td>\n",
              "    </tr>\n",
              "    <tr>\n",
              "      <th>8</th>\n",
              "      <td>id2914314</td>\n",
              "      <td>2</td>\n",
              "      <td>1/1/2016 0:02</td>\n",
              "      <td>1/1/2016 0:23</td>\n",
              "      <td>1</td>\n",
              "      <td>-73.985443</td>\n",
              "      <td>40.735710</td>\n",
              "      <td>-73.957489</td>\n",
              "      <td>40.811611</td>\n",
              "      <td>N</td>\n",
              "      <td>5.445945</td>\n",
              "      <td>1310</td>\n",
              "      <td>156.506292</td>\n",
              "      <td>False</td>\n",
              "    </tr>\n",
              "    <tr>\n",
              "      <th>9</th>\n",
              "      <td>id0846101</td>\n",
              "      <td>2</td>\n",
              "      <td>1/1/2016 0:03</td>\n",
              "      <td>1/1/2016 0:07</td>\n",
              "      <td>1</td>\n",
              "      <td>-73.976860</td>\n",
              "      <td>40.683376</td>\n",
              "      <td>-73.983643</td>\n",
              "      <td>40.688866</td>\n",
              "      <td>N</td>\n",
              "      <td>0.519887</td>\n",
              "      <td>263</td>\n",
              "      <td>24.991453</td>\n",
              "      <td>False</td>\n",
              "    </tr>\n",
              "  </tbody>\n",
              "</table>\n",
              "</div>"
            ],
            "text/plain": [
              "          id  vendor_id pickup_datetime dropoff_datetime  passenger_count  \\\n",
              "0  id0190469          2   1/1/2016 0:00    1/1/2016 0:14                5   \n",
              "1  id1665586          1   1/1/2016 0:00    1/1/2016 0:22                1   \n",
              "2  id1078247          2   1/1/2016 0:01    1/1/2016 0:03                1   \n",
              "3  id3609443          1   1/1/2016 0:01    1/1/2016 0:21                2   \n",
              "4  id3888279          1   1/1/2016 0:01    1/1/2016 0:05                1   \n",
              "5  id1210365          2   1/1/2016 0:01    1/1/2016 0:07                5   \n",
              "6  id0924227          1   1/1/2016 0:01    1/1/2016 0:13                1   \n",
              "7  id3675972          2   1/1/2016 0:02    1/1/2016 0:10                1   \n",
              "8  id2914314          2   1/1/2016 0:02    1/1/2016 0:23                1   \n",
              "9  id0846101          2   1/1/2016 0:03    1/1/2016 0:07                1   \n",
              "\n",
              "   pickup_longitude  pickup_latitude  dropoff_longitude  dropoff_latitude  \\\n",
              "0        -73.981743        40.719158         -73.938828         40.829182   \n",
              "1        -73.985085        40.747166         -73.958038         40.717491   \n",
              "2        -73.973335        40.764072         -73.974854         40.761734   \n",
              "3        -73.993103        40.752632         -73.953903         40.816540   \n",
              "4        -73.982292        40.751331         -73.991341         40.750340   \n",
              "5        -73.965279        40.801041         -73.947479         40.815170   \n",
              "6        -73.970108        40.759800         -73.989357         40.742989   \n",
              "7        -73.993736        40.741760         -74.004669         40.745468   \n",
              "8        -73.985443        40.735710         -73.957489         40.811611   \n",
              "9        -73.976860        40.683376         -73.983643         40.688866   \n",
              "\n",
              "  store_and_fwd_flag  gc_distance  trip_duration       durak    max  \n",
              "0                  N     7.928830            849   99.694575  False  \n",
              "1                  N     2.492482           1294  154.001752  False  \n",
              "2                  N     0.180099            114    6.344715  False  \n",
              "3                  N     4.869948           1204  143.186514  False  \n",
              "4                  N     0.478682            280   27.000840  False  \n",
              "5                  N     1.349297            408   43.756594  False  \n",
              "6                  N     1.538063            736   84.135173  False  \n",
              "7                  N     0.627214            445   47.764505  False  \n",
              "8                  N     5.445945           1310  156.506292  False  \n",
              "9                  N     0.519887            263   24.991453  False  "
            ]
          },
          "metadata": {
            "tags": []
          },
          "execution_count": 19
        }
      ]
    },
    {
      "metadata": {
        "id": "6ecw45jVTzLi",
        "colab_type": "code",
        "colab": {},
        "outputId": "1010dfee-d92a-44be-8b0c-3987558ee8c1"
      },
      "cell_type": "code",
      "source": [
        "import seaborn as sns\n",
        "sns.boxplot(x=data['trip_duration'])"
      ],
      "execution_count": 0,
      "outputs": [
        {
          "output_type": "execute_result",
          "data": {
            "text/plain": [
              "<matplotlib.axes._subplots.AxesSubplot at 0x2a5cf2c5278>"
            ]
          },
          "metadata": {
            "tags": []
          },
          "execution_count": 20
        },
        {
          "output_type": "display_data",
          "data": {
            "image/png": "[encoded data removed]",
            "text/plain": [
              "<Figure size 432x288 with 1 Axes>"
            ]
          },
          "metadata": {
            "tags": [],
            "needs_background": "light"
          }
        }
      ]
    },
    {
      "metadata": {
        "id": "gEnsR_IHTzLo",
        "colab_type": "code",
        "colab": {},
        "outputId": "7f80acc4-46a5-42e3-c723-85eb352665e7"
      },
      "cell_type": "code",
      "source": [
        "import seaborn as sns\n",
        "sns.boxplot(x=data['dropoff_latitude'])"
      ],
      "execution_count": 0,
      "outputs": [
        {
          "output_type": "execute_result",
          "data": {
            "text/plain": [
              "<matplotlib.axes._subplots.AxesSubplot at 0x2a5cf49a940>"
            ]
          },
          "metadata": {
            "tags": []
          },
          "execution_count": 21
        },
        {
          "output_type": "display_data",
          "data": {
            "image/png": "[encoded data removed]",
            "text/plain": [
              "<Figure size 432x288 with 1 Axes>"
            ]
          },
          "metadata": {
            "tags": [],
            "needs_background": "light"
          }
        }
      ]
    },
    {
      "metadata": {
        "id": "iywzqZbQTzLs",
        "colab_type": "code",
        "colab": {},
        "outputId": "02ad96ae-120d-4cf8-9713-0c9b49afd48a"
      },
      "cell_type": "code",
      "source": [
        "import seaborn as sns\n",
        "sns.boxplot(x=data['pickup_longitude'])"
      ],
      "execution_count": 0,
      "outputs": [
        {
          "output_type": "execute_result",
          "data": {
            "text/plain": [
              "<matplotlib.axes._subplots.AxesSubplot at 0x2a5cf3f5e80>"
            ]
          },
          "metadata": {
            "tags": []
          },
          "execution_count": 22
        },
        {
          "output_type": "display_data",
          "data": {
            "image/png": "[encoded data removed]",
            "text/plain": [
              "<Figure size 432x288 with 1 Axes>"
            ]
          },
          "metadata": {
            "tags": [],
            "needs_background": "light"
          }
        }
      ]
    },
    {
      "metadata": {
        "id": "kDcSNpVjTzLw",
        "colab_type": "code",
        "colab": {}
      },
      "cell_type": "code",
      "source": [
        "P = np.percentile(data.trip_duration, [10, 100])"
      ],
      "execution_count": 0,
      "outputs": []
    },
    {
      "metadata": {
        "id": "b3MZG3PoTzLz",
        "colab_type": "code",
        "colab": {}
      },
      "cell_type": "code",
      "source": [
        "new_data = data[(data.trip_duration > P[0]) & (data.trip_duration < P[1])]"
      ],
      "execution_count": 0,
      "outputs": []
    },
    {
      "metadata": {
        "id": "_XtnOMakTzL1",
        "colab_type": "code",
        "colab": {},
        "outputId": "40951257-4d95-4ac7-a133-eb678f45cc19"
      },
      "cell_type": "code",
      "source": [
        "new_data.head()"
      ],
      "execution_count": 0,
      "outputs": [
        {
          "output_type": "execute_result",
          "data": {
            "text/html": [
              "<div>\n",
              "<style scoped>\n",
              "    .dataframe tbody tr th:only-of-type {\n",
              "        vertical-align: middle;\n",
              "    }\n",
              "\n",
              "    .dataframe tbody tr th {\n",
              "        vertical-align: top;\n",
              "    }\n",
              "\n",
              "    .dataframe thead th {\n",
              "        text-align: right;\n",
              "    }\n",
              "</style>\n",
              "<table border=\"1\" class=\"dataframe\">\n",
              "  <thead>\n",
              "    <tr style=\"text-align: right;\">\n",
              "      <th></th>\n",
              "      <th>id</th>\n",
              "      <th>vendor_id</th>\n",
              "      <th>pickup_datetime</th>\n",
              "      <th>dropoff_datetime</th>\n",
              "      <th>passenger_count</th>\n",
              "      <th>pickup_longitude</th>\n",
              "      <th>pickup_latitude</th>\n",
              "      <th>dropoff_longitude</th>\n",
              "      <th>dropoff_latitude</th>\n",
              "      <th>store_and_fwd_flag</th>\n",
              "      <th>gc_distance</th>\n",
              "      <th>trip_duration</th>\n",
              "      <th>durak</th>\n",
              "      <th>max</th>\n",
              "    </tr>\n",
              "  </thead>\n",
              "  <tbody>\n",
              "    <tr>\n",
              "      <th>0</th>\n",
              "      <td>id0190469</td>\n",
              "      <td>2</td>\n",
              "      <td>1/1/2016 0:00</td>\n",
              "      <td>1/1/2016 0:14</td>\n",
              "      <td>5</td>\n",
              "      <td>-73.981743</td>\n",
              "      <td>40.719158</td>\n",
              "      <td>-73.938828</td>\n",
              "      <td>40.829182</td>\n",
              "      <td>N</td>\n",
              "      <td>7.928830</td>\n",
              "      <td>849</td>\n",
              "      <td>99.694575</td>\n",
              "      <td>False</td>\n",
              "    </tr>\n",
              "    <tr>\n",
              "      <th>1</th>\n",
              "      <td>id1665586</td>\n",
              "      <td>1</td>\n",
              "      <td>1/1/2016 0:00</td>\n",
              "      <td>1/1/2016 0:22</td>\n",
              "      <td>1</td>\n",
              "      <td>-73.985085</td>\n",
              "      <td>40.747166</td>\n",
              "      <td>-73.958038</td>\n",
              "      <td>40.717491</td>\n",
              "      <td>N</td>\n",
              "      <td>2.492482</td>\n",
              "      <td>1294</td>\n",
              "      <td>154.001752</td>\n",
              "      <td>False</td>\n",
              "    </tr>\n",
              "    <tr>\n",
              "      <th>3</th>\n",
              "      <td>id3609443</td>\n",
              "      <td>1</td>\n",
              "      <td>1/1/2016 0:01</td>\n",
              "      <td>1/1/2016 0:21</td>\n",
              "      <td>2</td>\n",
              "      <td>-73.993103</td>\n",
              "      <td>40.752632</td>\n",
              "      <td>-73.953903</td>\n",
              "      <td>40.816540</td>\n",
              "      <td>N</td>\n",
              "      <td>4.869948</td>\n",
              "      <td>1204</td>\n",
              "      <td>143.186514</td>\n",
              "      <td>False</td>\n",
              "    </tr>\n",
              "    <tr>\n",
              "      <th>4</th>\n",
              "      <td>id3888279</td>\n",
              "      <td>1</td>\n",
              "      <td>1/1/2016 0:01</td>\n",
              "      <td>1/1/2016 0:05</td>\n",
              "      <td>1</td>\n",
              "      <td>-73.982292</td>\n",
              "      <td>40.751331</td>\n",
              "      <td>-73.991341</td>\n",
              "      <td>40.750340</td>\n",
              "      <td>N</td>\n",
              "      <td>0.478682</td>\n",
              "      <td>280</td>\n",
              "      <td>27.000840</td>\n",
              "      <td>False</td>\n",
              "    </tr>\n",
              "    <tr>\n",
              "      <th>5</th>\n",
              "      <td>id1210365</td>\n",
              "      <td>2</td>\n",
              "      <td>1/1/2016 0:01</td>\n",
              "      <td>1/1/2016 0:07</td>\n",
              "      <td>5</td>\n",
              "      <td>-73.965279</td>\n",
              "      <td>40.801041</td>\n",
              "      <td>-73.947479</td>\n",
              "      <td>40.815170</td>\n",
              "      <td>N</td>\n",
              "      <td>1.349297</td>\n",
              "      <td>408</td>\n",
              "      <td>43.756594</td>\n",
              "      <td>False</td>\n",
              "    </tr>\n",
              "  </tbody>\n",
              "</table>\n",
              "</div>"
            ],
            "text/plain": [
              "          id  vendor_id pickup_datetime dropoff_datetime  passenger_count  \\\n",
              "0  id0190469          2   1/1/2016 0:00    1/1/2016 0:14                5   \n",
              "1  id1665586          1   1/1/2016 0:00    1/1/2016 0:22                1   \n",
              "3  id3609443          1   1/1/2016 0:01    1/1/2016 0:21                2   \n",
              "4  id3888279          1   1/1/2016 0:01    1/1/2016 0:05                1   \n",
              "5  id1210365          2   1/1/2016 0:01    1/1/2016 0:07                5   \n",
              "\n",
              "   pickup_longitude  pickup_latitude  dropoff_longitude  dropoff_latitude  \\\n",
              "0        -73.981743        40.719158         -73.938828         40.829182   \n",
              "1        -73.985085        40.747166         -73.958038         40.717491   \n",
              "3        -73.993103        40.752632         -73.953903         40.816540   \n",
              "4        -73.982292        40.751331         -73.991341         40.750340   \n",
              "5        -73.965279        40.801041         -73.947479         40.815170   \n",
              "\n",
              "  store_and_fwd_flag  gc_distance  trip_duration       durak    max  \n",
              "0                  N     7.928830            849   99.694575  False  \n",
              "1                  N     2.492482           1294  154.001752  False  \n",
              "3                  N     4.869948           1204  143.186514  False  \n",
              "4                  N     0.478682            280   27.000840  False  \n",
              "5                  N     1.349297            408   43.756594  False  "
            ]
          },
          "metadata": {
            "tags": []
          },
          "execution_count": 25
        }
      ]
    },
    {
      "metadata": {
        "id": "toFLVSllTzL5",
        "colab_type": "code",
        "colab": {}
      },
      "cell_type": "code",
      "source": [
        "from sklearn import preprocessing\n",
        "x = data[['trip_duration']].values.astype(float)\n",
        "min_max_scaler = preprocessing.MinMaxScaler()\n",
        "x_scaled = min_max_scaler.fit_transform(x)\n",
        "data['trip_duration2'] = pd.DataFrame(x_scaled)"
      ],
      "execution_count": 0,
      "outputs": []
    },
    {
      "metadata": {
        "id": "qxiYTutlTzL9",
        "colab_type": "code",
        "colab": {},
        "outputId": "5f9b0167-934f-4f24-e6c7-6b44dcd2e235"
      },
      "cell_type": "code",
      "source": [
        "data.head()"
      ],
      "execution_count": 0,
      "outputs": [
        {
          "output_type": "execute_result",
          "data": {
            "text/html": [
              "<div>\n",
              "<style scoped>\n",
              "    .dataframe tbody tr th:only-of-type {\n",
              "        vertical-align: middle;\n",
              "    }\n",
              "\n",
              "    .dataframe tbody tr th {\n",
              "        vertical-align: top;\n",
              "    }\n",
              "\n",
              "    .dataframe thead th {\n",
              "        text-align: right;\n",
              "    }\n",
              "</style>\n",
              "<table border=\"1\" class=\"dataframe\">\n",
              "  <thead>\n",
              "    <tr style=\"text-align: right;\">\n",
              "      <th></th>\n",
              "      <th>id</th>\n",
              "      <th>vendor_id</th>\n",
              "      <th>pickup_datetime</th>\n",
              "      <th>dropoff_datetime</th>\n",
              "      <th>passenger_count</th>\n",
              "      <th>pickup_longitude</th>\n",
              "      <th>pickup_latitude</th>\n",
              "      <th>dropoff_longitude</th>\n",
              "      <th>dropoff_latitude</th>\n",
              "      <th>store_and_fwd_flag</th>\n",
              "      <th>gc_distance</th>\n",
              "      <th>trip_duration</th>\n",
              "      <th>durak</th>\n",
              "      <th>max</th>\n",
              "      <th>trip_duration2</th>\n",
              "    </tr>\n",
              "  </thead>\n",
              "  <tbody>\n",
              "    <tr>\n",
              "      <th>0</th>\n",
              "      <td>id0190469</td>\n",
              "      <td>2</td>\n",
              "      <td>1/1/2016 0:00</td>\n",
              "      <td>1/1/2016 0:14</td>\n",
              "      <td>5</td>\n",
              "      <td>-73.981743</td>\n",
              "      <td>40.719158</td>\n",
              "      <td>-73.938828</td>\n",
              "      <td>40.829182</td>\n",
              "      <td>N</td>\n",
              "      <td>7.928830</td>\n",
              "      <td>849</td>\n",
              "      <td>99.694575</td>\n",
              "      <td>False</td>\n",
              "      <td>0.000380</td>\n",
              "    </tr>\n",
              "    <tr>\n",
              "      <th>1</th>\n",
              "      <td>id1665586</td>\n",
              "      <td>1</td>\n",
              "      <td>1/1/2016 0:00</td>\n",
              "      <td>1/1/2016 0:22</td>\n",
              "      <td>1</td>\n",
              "      <td>-73.985085</td>\n",
              "      <td>40.747166</td>\n",
              "      <td>-73.958038</td>\n",
              "      <td>40.717491</td>\n",
              "      <td>N</td>\n",
              "      <td>2.492482</td>\n",
              "      <td>1294</td>\n",
              "      <td>154.001752</td>\n",
              "      <td>False</td>\n",
              "      <td>0.000580</td>\n",
              "    </tr>\n",
              "    <tr>\n",
              "      <th>2</th>\n",
              "      <td>id1078247</td>\n",
              "      <td>2</td>\n",
              "      <td>1/1/2016 0:01</td>\n",
              "      <td>1/1/2016 0:03</td>\n",
              "      <td>1</td>\n",
              "      <td>-73.973335</td>\n",
              "      <td>40.764072</td>\n",
              "      <td>-73.974854</td>\n",
              "      <td>40.761734</td>\n",
              "      <td>N</td>\n",
              "      <td>0.180099</td>\n",
              "      <td>114</td>\n",
              "      <td>6.344715</td>\n",
              "      <td>False</td>\n",
              "      <td>0.000050</td>\n",
              "    </tr>\n",
              "    <tr>\n",
              "      <th>3</th>\n",
              "      <td>id3609443</td>\n",
              "      <td>1</td>\n",
              "      <td>1/1/2016 0:01</td>\n",
              "      <td>1/1/2016 0:21</td>\n",
              "      <td>2</td>\n",
              "      <td>-73.993103</td>\n",
              "      <td>40.752632</td>\n",
              "      <td>-73.953903</td>\n",
              "      <td>40.816540</td>\n",
              "      <td>N</td>\n",
              "      <td>4.869948</td>\n",
              "      <td>1204</td>\n",
              "      <td>143.186514</td>\n",
              "      <td>False</td>\n",
              "      <td>0.000540</td>\n",
              "    </tr>\n",
              "    <tr>\n",
              "      <th>4</th>\n",
              "      <td>id3888279</td>\n",
              "      <td>1</td>\n",
              "      <td>1/1/2016 0:01</td>\n",
              "      <td>1/1/2016 0:05</td>\n",
              "      <td>1</td>\n",
              "      <td>-73.982292</td>\n",
              "      <td>40.751331</td>\n",
              "      <td>-73.991341</td>\n",
              "      <td>40.750340</td>\n",
              "      <td>N</td>\n",
              "      <td>0.478682</td>\n",
              "      <td>280</td>\n",
              "      <td>27.000840</td>\n",
              "      <td>False</td>\n",
              "      <td>0.000125</td>\n",
              "    </tr>\n",
              "  </tbody>\n",
              "</table>\n",
              "</div>"
            ],
            "text/plain": [
              "          id  vendor_id pickup_datetime dropoff_datetime  passenger_count  \\\n",
              "0  id0190469          2   1/1/2016 0:00    1/1/2016 0:14                5   \n",
              "1  id1665586          1   1/1/2016 0:00    1/1/2016 0:22                1   \n",
              "2  id1078247          2   1/1/2016 0:01    1/1/2016 0:03                1   \n",
              "3  id3609443          1   1/1/2016 0:01    1/1/2016 0:21                2   \n",
              "4  id3888279          1   1/1/2016 0:01    1/1/2016 0:05                1   \n",
              "\n",
              "   pickup_longitude  pickup_latitude  dropoff_longitude  dropoff_latitude  \\\n",
              "0        -73.981743        40.719158         -73.938828         40.829182   \n",
              "1        -73.985085        40.747166         -73.958038         40.717491   \n",
              "2        -73.973335        40.764072         -73.974854         40.761734   \n",
              "3        -73.993103        40.752632         -73.953903         40.816540   \n",
              "4        -73.982292        40.751331         -73.991341         40.750340   \n",
              "\n",
              "  store_and_fwd_flag  gc_distance  trip_duration       durak    max  \\\n",
              "0                  N     7.928830            849   99.694575  False   \n",
              "1                  N     2.492482           1294  154.001752  False   \n",
              "2                  N     0.180099            114    6.344715  False   \n",
              "3                  N     4.869948           1204  143.186514  False   \n",
              "4                  N     0.478682            280   27.000840  False   \n",
              "\n",
              "   trip_duration2  \n",
              "0        0.000380  \n",
              "1        0.000580  \n",
              "2        0.000050  \n",
              "3        0.000540  \n",
              "4        0.000125  "
            ]
          },
          "metadata": {
            "tags": []
          },
          "execution_count": 27
        }
      ]
    },
    {
      "metadata": {
        "id": "VXso4J2RTzMC",
        "colab_type": "code",
        "colab": {}
      },
      "cell_type": "code",
      "source": [
        "featuresForFit = ['dropoff_latitude', 'pickup_latitude']\n",
        "X = data[featuresForFit]\n",
        "y = data['max']"
      ],
      "execution_count": 0,
      "outputs": []
    },
    {
      "metadata": {
        "id": "FljrXdlJTzMF",
        "colab_type": "code",
        "colab": {}
      },
      "cell_type": "code",
      "source": [
        "from sklearn.model_selection import train_test_split\n",
        "X_train, X_test, y_train, y_test = train_test_split(X, y, random_state=0)\n",
        "from sklearn.preprocessing import MinMaxScaler\n",
        "scaler = MinMaxScaler()\n",
        "X_train = scaler.fit_transform(X_train)\n",
        "X_test = scaler.transform(X_test)"
      ],
      "execution_count": 0,
      "outputs": []
    },
    {
      "metadata": {
        "id": "a2QuuGQHTzMH",
        "colab_type": "code",
        "colab": {},
        "outputId": "fed3c08c-ea19-488b-94f9-f53f77c6ee84"
      },
      "cell_type": "code",
      "source": [
        "from sklearn.tree import DecisionTreeClassifier\n",
        "clf = DecisionTreeClassifier().fit(X_train, y_train)\n",
        "print('Accuracy of Decision Tree classifier on training set: {:.2f}'\n",
        "     .format(clf.score(X_train, y_train)))\n",
        "print('Accuracy of Decision Tree classifier on test set: {:.2f}'\n",
        "     .format(clf.score(X_test, y_test)))"
      ],
      "execution_count": 0,
      "outputs": [
        {
          "output_type": "stream",
          "text": [
            "Accuracy of Decision Tree classifier on training set: 1.00\n",
            "Accuracy of Decision Tree classifier on test set: 0.99\n"
          ],
          "name": "stdout"
        }
      ]
    },
    {
      "metadata": {
        "id": "QJo46RH6TzML",
        "colab_type": "code",
        "colab": {},
        "outputId": "30e3197a-9fec-4c28-c64f-443444432f78"
      },
      "cell_type": "code",
      "source": [
        "from sklearn.metrics import classification_report\n",
        "from sklearn.metrics import confusion_matrix\n",
        "pred = clf.predict(X_test)\n",
        "print(confusion_matrix(y_test, pred))\n",
        "print(classification_report(y_test, pred))"
      ],
      "execution_count": 0,
      "outputs": [
        {
          "output_type": "stream",
          "text": [
            "[[9786   26]\n",
            " [  34    3]]\n",
            "              precision    recall  f1-score   support\n",
            "\n",
            "       False       1.00      1.00      1.00      9812\n",
            "        True       0.10      0.08      0.09        37\n",
            "\n",
            "   micro avg       0.99      0.99      0.99      9849\n",
            "   macro avg       0.55      0.54      0.54      9849\n",
            "weighted avg       0.99      0.99      0.99      9849\n",
            "\n"
          ],
          "name": "stdout"
        }
      ]
    },
    {
      "metadata": {
        "id": "Y65aqXNaTzMO",
        "colab_type": "code",
        "colab": {},
        "outputId": "4b27e291-660c-46b6-d114-b0238d088fd4"
      },
      "cell_type": "code",
      "source": [
        "from sklearn.tree import DecisionTreeClassifier\n",
        "clf = DecisionTreeClassifier().fit(X_train, y_train)\n",
        "print('Accuracy of Decision Tree classifier on training set: {:.2f}'\n",
        "     .format(clf.score(X_train, y_train)))\n",
        "print('Accuracy of Decision Tree classifier on test set: {:.2f}'\n",
        "     .format(clf.score(X_test, y_test)))"
      ],
      "execution_count": 0,
      "outputs": [
        {
          "output_type": "stream",
          "text": [
            "Accuracy of Decision Tree classifier on training set: 1.00\n",
            "Accuracy of Decision Tree classifier on test set: 0.99\n"
          ],
          "name": "stdout"
        }
      ]
    },
    {
      "metadata": {
        "id": "2KLeDu4PTzMS",
        "colab_type": "code",
        "colab": {},
        "outputId": "2905b835-ed02-4703-8cc0-d901e3bf3b1d"
      },
      "cell_type": "code",
      "source": [
        "from sklearn.metrics import classification_report\n",
        "from sklearn.metrics import confusion_matrix\n",
        "pred = clf.predict(X_test)\n",
        "print(confusion_matrix(y_test, pred))\n",
        "print(classification_report(y_test, pred))\n"
      ],
      "execution_count": 0,
      "outputs": [
        {
          "output_type": "stream",
          "text": [
            "[[9789   23]\n",
            " [  35    2]]\n",
            "              precision    recall  f1-score   support\n",
            "\n",
            "       False       1.00      1.00      1.00      9812\n",
            "        True       0.08      0.05      0.06        37\n",
            "\n",
            "   micro avg       0.99      0.99      0.99      9849\n",
            "   macro avg       0.54      0.53      0.53      9849\n",
            "weighted avg       0.99      0.99      0.99      9849\n",
            "\n"
          ],
          "name": "stdout"
        }
      ]
    },
    {
      "metadata": {
        "id": "-wy4P97qTzMX",
        "colab_type": "code",
        "colab": {}
      },
      "cell_type": "code",
      "source": [
        ""
      ],
      "execution_count": 0,
      "outputs": []
    }
  ]
}